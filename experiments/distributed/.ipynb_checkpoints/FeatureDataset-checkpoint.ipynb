{
 "cells": [
  {
   "cell_type": "code",
   "execution_count": 1,
   "id": "d7d95953",
   "metadata": {},
   "outputs": [
    {
     "name": "stderr",
     "output_type": "stream",
     "text": [
      "Matplotlib is building the font cache; this may take a moment.\n"
     ]
    }
   ],
   "source": [
    "import logging\n",
    "import os\n",
    "import sys\n",
    "import numpy as np\n",
    "import pandas as pd\n",
    "from matplotlib import pyplot as plt"
   ]
  },
  {
   "cell_type": "code",
   "execution_count": 6,
   "id": "d7a4a457",
   "metadata": {},
   "outputs": [
    {
     "ename": "SyntaxError",
     "evalue": "invalid syntax (Temp/ipykernel_23988/4183073020.py, line 9)",
     "output_type": "error",
     "traceback": [
      "\u001b[1;36m  File \u001b[1;32m\"C:\\Users\\DAVIDR~1\\AppData\\Local\\Temp/ipykernel_23988/4183073020.py\"\u001b[1;36m, line \u001b[1;32m9\u001b[0m\n\u001b[1;33m    for f in os.listdir(os.path.join('./../../data/UCI-MLR', device, 'gafgyt_attacks'))\u001b[0m\n\u001b[1;37m                                                                                       ^\u001b[0m\n\u001b[1;31mSyntaxError\u001b[0m\u001b[1;31m:\u001b[0m invalid syntax\n"
     ]
    }
   ],
   "source": [
    "device_list = ['Danmini_Doorbell', 'Ecobee_Thermostat', 'Ennio_Doorbell', 'Philips_B120N10_Baby_Monitor',\n",
    "                   'Provision_PT_737E_Security_Camera', 'Provision_PT_838_Security_Camera', 'Samsung_SNH_1011_N_Webcam',\n",
    "                   'SimpleHome_XCS7_1002_WHT_Security_Camera', 'SimpleHome_XCS7_1003_WHT_Security_Camera']\n",
    "\n",
    "for i, device in enumerate(device_list):\n",
    "    benign_data = pd.read_csv(os.path.join('./../../data/UCI-MLR', device, 'benign_traffic.csv'))\n",
    "    print('Row count BENIGN is:' + str(len(benign_data.index)) + 'in ' + device)\n",
    "    if device == 'Ennio_Doorbell' or device == 'Samsung_SNH_1011_N_Webcam':\n",
    "        lista = os.listdir(os.path.join('./../../data/UCI-MLR', device, 'gafgyt_attacks'))\n",
    "        for f in lista\n",
    "            g_attack_data = pd.read_csv(os.path.join('./../../data/UCI-MLR', device, 'gafgyt_attacks', f)\n",
    "            print('Row count G is:' + str(len(g_attack_data.index)) + 'in ' + device)\n",
    "    else:\n",
    "        lista = os.listdir(os.path.join('./../../data/UCI-MLR', device, 'gafgyt_attacks'))\n",
    "        for f in lista\n",
    "            g_attack_data = pd.read_csv(os.path.join('./../../data/UCI-MLR', device, 'gafgyt_attacks', f)\n",
    "            print('Row count G ' + f + ' is ' + str(len(g_attack_data.index)) + 'in ' + device)\n",
    "                                        \n",
    "        lista = os.listdir(os.path.join('./../../data/UCI-MLR', device, 'mirai_attacks'))\n",
    "        for f in lista                              \n",
    "            m_attack_data = pd.read_csv(os.path.join('./../../data/UCI-MLR', device, 'mirai_attacks', f)\n",
    "            print('Row count M ' + f + ' is ' + str(len(m_attack_data.index)) + 'in ' + device)\n",
    "                        "
   ]
  },
  {
   "cell_type": "code",
   "execution_count": null,
   "id": "a46a714c",
   "metadata": {},
   "outputs": [],
   "source": []
  }
 ],
 "metadata": {
  "kernelspec": {
   "display_name": "Python 3 (ipykernel)",
   "language": "python",
   "name": "python3"
  },
  "language_info": {
   "codemirror_mode": {
    "name": "ipython",
    "version": 3
   },
   "file_extension": ".py",
   "mimetype": "text/x-python",
   "name": "python",
   "nbconvert_exporter": "python",
   "pygments_lexer": "ipython3",
   "version": "3.9.7"
  }
 },
 "nbformat": 4,
 "nbformat_minor": 5
}
